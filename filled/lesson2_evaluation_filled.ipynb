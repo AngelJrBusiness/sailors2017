{
 "cells": [
  {
   "cell_type": "code",
   "execution_count": 8,
   "metadata": {},
   "outputs": [
    {
     "name": "stdout",
     "output_type": "stream",
     "text": [
      "The autoreload extension is already loaded. To reload it, use:\n",
      "  %reload_ext autoreload\n"
     ]
    }
   ],
   "source": [
    "# Run this every time you open the spreadsheet\n",
    "%load_ext autoreload\n",
    "%autoreload 2\n",
    "from collections import Counter\n",
    "import lib"
   ]
  },
  {
   "cell_type": "markdown",
   "metadata": {},
   "source": [
    "# Load and inspect the data"
   ]
  },
  {
   "cell_type": "code",
   "execution_count": 9,
   "metadata": {
    "collapsed": true
   },
   "outputs": [],
   "source": [
    "# Load the data.\n",
    "# This function returns \"tweets\", which is a list of tweets\n",
    "tweets, test_tweets = lib.read_data()"
   ]
  },
  {
   "cell_type": "code",
   "execution_count": 16,
   "metadata": {
    "collapsed": true
   },
   "outputs": [],
   "source": [
    "def classify_rb(tweet):\n",
    "    \n",
    "  tweet_text = str(tweet).lower() # this makes the tweet lower-case, so we don't have to worry about matching case\n",
    "\n",
    "  if 'medical' in tweet_text:\n",
    "    return \"Medical\"\n",
    "  elif 'energy' in tweet_text:\n",
    "    return \"Energy\"\n",
    "  elif 'water' in tweet_text:\n",
    "    return \"Water\"\n",
    "  elif 'food' in tweet_text:\n",
    "    return \"Food\"\n",
    "  else:\n",
    "    return \"None\""
   ]
  },
  {
   "cell_type": "markdown",
   "metadata": {},
   "source": [
    "# Measure the accuracy of your rule-based classifier\n",
    "\n",
    "Complete the function below to calculate the precision, recall and F1 for a category."
   ]
  },
  {
   "cell_type": "code",
   "execution_count": 27,
   "metadata": {
    "collapsed": true
   },
   "outputs": [],
   "source": [
    "def evaluate(predictions, c):\n",
    "    \"\"\"\n",
    "    Inputs:\n",
    "        predictions: a list of (tweet, predicted_category) pairs\n",
    "        c: a category \n",
    "    Calculate the precision, recall and F1 for a single category c (e.g. Food)\n",
    "    \"\"\"\n",
    "    \n",
    "    true_positives = 0.0\n",
    "    false_positives = 0.0\n",
    "    false_negatives = 0.0\n",
    "    \n",
    "    for (tweet, predicted_category) in predictions:\n",
    "        true_category = tweet.category\n",
    "        if true_category == c and predicted_category == c:\n",
    "            true_positives += 1\n",
    "        elif true_category == c and predicted_category != c:\n",
    "            false_negatives += 1\n",
    "        elif true_category != c and predicted_category == c:\n",
    "            false_positives += 1\n",
    "            \n",
    "    if true_positives == 0:\n",
    "        precision = 0.0\n",
    "        recall = 0.0\n",
    "        f1 = 0.0\n",
    "    else:\n",
    "        precision = true_positives*100 / (true_positives + false_positives)\n",
    "        recall = true_positives*100 / (true_positives + false_negatives)\n",
    "        f1 = 2*precision*recall / (precision + recall)\n",
    "\n",
    "    print c\n",
    "    print \"Precision: \", precision\n",
    "    print \"Recall: \", recall\n",
    "    print \"F1: \", f1\n",
    "    print \"\"\n",
    "#     print \"Class %s: precision %.2f, recall %.2f, F1 %.2f\" % (c, precision, recall, f1)\n",
    "\n",
    "    return f1\n",
    "    \n",
    "            "
   ]
  },
  {
   "cell_type": "code",
   "execution_count": 28,
   "metadata": {},
   "outputs": [
    {
     "name": "stdout",
     "output_type": "stream",
     "text": [
      "Food\n",
      "Precision:  81.3559322034\n",
      "Recall:  70.5882352941\n",
      "F1:  75.5905511811\n",
      "\n",
      "Water\n",
      "Precision:  64.7058823529\n",
      "Recall:  95.652173913\n",
      "F1:  77.1929824561\n",
      "\n",
      "Energy\n",
      "Precision:  0.0\n",
      "Recall:  0.0\n",
      "F1:  0.0\n",
      "\n",
      "Medical\n",
      "Precision:  0.0\n",
      "Recall:  0.0\n",
      "F1:  0.0\n",
      "\n",
      "None\n",
      "Precision:  40.3100775194\n",
      "Recall:  69.3333333333\n",
      "F1:  50.9803921569\n",
      "\n",
      "Average F1:  40.7527851588\n"
     ]
    }
   ],
   "source": [
    "predictions = [(tweet, classify_rb(tweet)) for tweet in test_tweets] # maps each unseen tweet to its predicted label\n",
    "\n",
    "food_f1 = evaluate(predictions, \"Food\")\n",
    "water_f1 = evaluate(predictions, \"Water\")\n",
    "energy_f1 = evaluate(predictions, \"Energy\")\n",
    "medical_f1 = evaluate(predictions, \"Medical\")\n",
    "none_f1 = evaluate(predictions, \"None\")\n",
    "\n",
    "average_f1 = (food_f1 + water_f1 + energy_f1 + medical_f1 + none_f1)/5\n",
    "print \"Average F1: \", average_f1"
   ]
  },
  {
   "cell_type": "markdown",
   "metadata": {},
   "source": [
    "## Look at the confusion matrix\n",
    "\n",
    "* Rows represent the true category of the tweet\n",
    "* Columns represent the category predicted by your classifier\n",
    "* So numbers on the diagonal represent correct classifications, and off-diagonal numbers represent misclassification"
   ]
  },
  {
   "cell_type": "code",
   "execution_count": 29,
   "metadata": {},
   "outputs": [
    {
     "data": {
      "text/html": [
       "<table border=\"1\" class=\"dataframe\">\n",
       "  <thead>\n",
       "    <tr style=\"text-align: right;\">\n",
       "      <th></th>\n",
       "      <th>Energy</th>\n",
       "      <th>Food</th>\n",
       "      <th>Medical</th>\n",
       "      <th>None</th>\n",
       "      <th>Water</th>\n",
       "    </tr>\n",
       "  </thead>\n",
       "  <tbody>\n",
       "    <tr>\n",
       "      <th>Energy</th>\n",
       "      <td>0</td>\n",
       "      <td>1</td>\n",
       "      <td>0</td>\n",
       "      <td>34</td>\n",
       "      <td>2</td>\n",
       "    </tr>\n",
       "    <tr>\n",
       "      <th>Food</th>\n",
       "      <td>0</td>\n",
       "      <td>96</td>\n",
       "      <td>0</td>\n",
       "      <td>32</td>\n",
       "      <td>8</td>\n",
       "    </tr>\n",
       "    <tr>\n",
       "      <th>Medical</th>\n",
       "      <td>0</td>\n",
       "      <td>0</td>\n",
       "      <td>0</td>\n",
       "      <td>10</td>\n",
       "      <td>0</td>\n",
       "    </tr>\n",
       "    <tr>\n",
       "      <th>None</th>\n",
       "      <td>0</td>\n",
       "      <td>21</td>\n",
       "      <td>0</td>\n",
       "      <td>52</td>\n",
       "      <td>2</td>\n",
       "    </tr>\n",
       "    <tr>\n",
       "      <th>Water</th>\n",
       "      <td>0</td>\n",
       "      <td>0</td>\n",
       "      <td>0</td>\n",
       "      <td>1</td>\n",
       "      <td>22</td>\n",
       "    </tr>\n",
       "  </tbody>\n",
       "</table>"
      ],
      "text/plain": [
       "<IPython.core.display.HTML object>"
      ]
     },
     "metadata": {},
     "output_type": "display_data"
    }
   ],
   "source": [
    "lib.show_confusion_matrix(predictions)"
   ]
  }
 ],
 "metadata": {
  "anaconda-cloud": {},
  "kernelspec": {
   "display_name": "Python [conda root]",
   "language": "python",
   "name": "conda-root-py"
  },
  "language_info": {
   "codemirror_mode": {
    "name": "ipython",
    "version": 2
   },
   "file_extension": ".py",
   "mimetype": "text/x-python",
   "name": "python",
   "nbconvert_exporter": "python",
   "pygments_lexer": "ipython2",
   "version": "2.7.12"
  }
 },
 "nbformat": 4,
 "nbformat_minor": 1
}
