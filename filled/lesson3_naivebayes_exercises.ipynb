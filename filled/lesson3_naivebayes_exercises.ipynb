{
 "cells": [
  {
   "cell_type": "code",
   "execution_count": 14,
   "metadata": {
    "collapsed": false
   },
   "outputs": [
    {
     "name": "stdout",
     "output_type": "stream",
     "text": [
      "The autoreload extension is already loaded. To reload it, use:\n",
      "  %reload_ext autoreload\n"
     ]
    }
   ],
   "source": [
    "# Run this every time you open the spreadsheet\n",
    "%load_ext autoreload\n",
    "%autoreload 2\n",
    "import lib"
   ]
  },
  {
   "cell_type": "markdown",
   "metadata": {},
   "source": [
    "# Load the content of the boxes"
   ]
  },
  {
   "cell_type": "code",
   "execution_count": 19,
   "metadata": {
    "collapsed": false,
    "scrolled": true
   },
   "outputs": [
    {
     "name": "stdout",
     "output_type": "stream",
     "text": [
      "Number of balls in box 1: 100\n",
      "Number of balls in box 2: 100\n"
     ]
    }
   ],
   "source": [
    "# Load the data.\n",
    "# This function returns box1 and box2, both lists of colors of the balls in each box\n",
    "box1, box2 = lib.get_box_contents()\n",
    "\n",
    "print \"Number of balls in box 1: %d\" % len(box1)\n",
    "print \"Number of balls in box 2: %d\" % len(box2)\n"
   ]
  },
  {
   "cell_type": "markdown",
   "metadata": {},
   "source": [
    "# Python concepts\n",
    "\n",
    "Let's review and look at some new Python concepts before we write our classifier.\n",
    "\n",
    "### Dictionaries\n",
    "In Python, a _dict_ is a collection of items in which each element can be accessed by a _key_. The _key_ is typically a string and the items can be of any data type, e.g., booleans, integers, strings. Each key can be used for only one item.\n",
    "\n",
    "You can create dictionaries like this:\n",
    "```\n",
    "west_coast_state_capitals = {\"California\": \"Sacramento\", \"Oregon\": \"Salem\", \"Washington\": \"Olympia\"}\n",
    "letter_counts = {\"a\": 2, \"b\": 2, \"e\": 1, \"s\": 1, \"d\": 1, \"i\": 1, \"n\": 1}\n",
    "```\n",
    "\n",
    "To access a value in a dictionary, use the name of the dictionary and put they _key_ in squared brackets:\n",
    "\n",
    "```\n",
    "west_coast_state_capitals[\"California\"] # returns \"Sacramento\"\n",
    "letter_counts[\"b\"] # returns 2\n",
    "```"
   ]
  },
  {
   "cell_type": "code",
   "execution_count": 20,
   "metadata": {
    "collapsed": false
   },
   "outputs": [
    {
     "name": "stdout",
     "output_type": "stream",
     "text": [
      "J.D. Salinger\n",
      "J.K. Rowling\n"
     ]
    }
   ],
   "source": [
    "# Exercise 1.\n",
    "# Create a dictionary called \"authors\" that maps the following book titles to their authors.\n",
    "#\n",
    "# Harry Potter - J.K. Rowling\n",
    "# The Casual Vacancy - J.K. Rowling\n",
    "# The Hunger Games - Suzanne Collins\n",
    "# Never Let Me Go - Kazuo Ishiguro\n",
    "# The Catcher in the Rye - J.D. Salinger\n",
    "#\n",
    "# Then print the author of \"The Catcher in the Rye\" and \"Harry Potter\"\n",
    "\n",
    "#### YOUR CODE STARTS HERE ####\n",
    "\n",
    "authors = {\"Harry Potter\": \"J.K. Rowling\", \"The Casual Vacancy\": \"J.K. Rowling\", \n",
    "           \"The Hunger Games\": \"Suzanne Collins\", \"Never Let Me Go\": \"Kazuo Ishiguro\",\n",
    "           \"The Catcher in the Rye\": \"J.D. Salinger\"}\n",
    "\n",
    "print authors[\"The Catcher in the Rye\"]\n",
    "print authors[\"Harry Potter\"]\n",
    "\n",
    "#### YOUR CODE ENDS HERE ####\n"
   ]
  },
  {
   "cell_type": "markdown",
   "metadata": {},
   "source": [
    "#### Adding, updating, and deleting items from dictionaries\n",
    "\n",
    "You can also add, change and delete items after you created an dictionary. \n",
    "\n",
    "For example, the following code creates an empty dictionary _d_ and then adds two items to it.\n",
    "\n",
    "```\n",
    "d = {}\n",
    "d[\"a\"] = 1\n",
    "d[\"b\"] = 5\n",
    "\n",
    "print d # outputs {'a': 1, 'b': 5}\n",
    "```\n",
    "\n",
    "To update an item in a dictionary, simply assign a new value to it:\n",
    "\n",
    "```\n",
    "d = {}\n",
    "d[\"a\"] = 1\n",
    "d[\"b\"] = 5\n",
    "print d # outputs {'a': 1, 'b': 5}\n",
    "\n",
    "\n",
    "d[\"a\"] = 5\n",
    "print d # outputs {'a': 5, 'b': 5}\n",
    "```\n",
    "\n",
    "Tto delete an item from a dictionary, use the _del_ keyword as in the following snippet:\n",
    "\n",
    "```\n",
    "d = {}\n",
    "d[\"a\"] = 1\n",
    "d[\"b\"] = 5\n",
    "print d # outputs {'a': 1, 'b': 5}\n",
    "\n",
    "del d[\"a\"]\n",
    "print d # outputs {'b': 5}\n",
    "```"
   ]
  },
  {
   "cell_type": "code",
   "execution_count": 24,
   "metadata": {
    "collapsed": false
   },
   "outputs": [
    {
     "name": "stdout",
     "output_type": "stream",
     "text": [
      "{'a': 1, 'c': 3, 'b': 2, 'e': 5, 'd': 4, 'g': 7, 'f': 6, 'i': 9, 'h': 8, 'k': 11, 'j': 10, 'm': 13, 'l': 12, 'o': 15, 'n': 14, 'q': 17, 'p': 16, 's': 19, 'r': 18, 'u': 21, 't': 20, 'w': 23, 'v': 22, 'y': 25, 'x': 24, 'z': 26}\n",
      "{'a': 1, 'c': 3, 'b': 2, 'e': 5, 'd': 4, 'g': 7, 'f': 6, 'i': 9, 'h': 8, 'k': 11, 'j': 10, 'm': 13, 'l': 12, 'o': 15, 'n': 14, 'q': 17, 'p': 16, 's': 19, 'r': 18, 'u': 21, 't': 20, 'w': 23, 'v': 22, 'y': 25, 'x': 24, 'z': 26}\n"
     ]
    }
   ],
   "source": [
    "letters = ['a', 'b', 'c', 'd', 'e', 'f', 'g', 'h', 'i', 'j', 'k', 'l', 'm', \n",
    "           'n', 'o', 'p', 'q', 'r', 's', 't', 'u', 'v', 'w', 'x', 'y', 'z']\n",
    "\n",
    "\n",
    "# Exercise 2(a).\n",
    "# Create an empty dictionary called alphabet and using the letters list, add a dictionary entry for each letter mapping it to \n",
    "# its position in the alphabet. Then print the final list.\n",
    "\n",
    "# Hints: \n",
    "# - Use an integer variable pos that stores the current position in the alphabet and increase its value \n",
    "#   everytime you add an entry.\n",
    "# - Use a loop to go through all the letters in the letters list.\n",
    "\n",
    "#### YOUR CODE STARTS HERE ####\n",
    "\n",
    "pos = 1\n",
    "alphabet = dict()\n",
    "for letter in letters:\n",
    "  alphabet[letter] = pos\n",
    "  pos += 1\n",
    "\n",
    "print alphabet\n",
    "\n",
    "#### YOUR CODE ENDS HERE ####\n",
    "    \n",
    "# Exercise 2(b) (optional, advanced).\n",
    "# Take a look a the enumerate function (https://docs.python.org/2/library/functions.html#enumerate) and use this\n",
    "# function instead of manually incrementing the pos variable.\n",
    "\n",
    "#### YOUR CODE STARTS HERE ####\n",
    "\n",
    "alphabet = dict()\n",
    "for pos, letter in enumerate(letters):\n",
    "    alphabet[letter] = pos + 1\n",
    "\n",
    "print alphabet\n",
    "\n",
    "#### YOUR CODE ENDS HERE ####\n"
   ]
  },
  {
   "cell_type": "markdown",
   "metadata": {},
   "source": [
    "#### Checking whether a key exists\n",
    "\n",
    "\n",
    "Sometimes, it can be useful to check whether an item for a key exists in a dictionary. You can do that with the _in_ keyword:\n",
    "\n",
    "```\n",
    "\n",
    "d = {\"a\" : 1, \"b\": 2}\n",
    "\n",
    "if \"a\" in d:\n",
    "  print \"There is an item with the key \\\"a\\\" in d.\"\n",
    "else:\n",
    "  print \"There is no item with the key \\\"a\\\" in d.\"\n",
    "  \n",
    "if \"c\" in d:\n",
    "  print \"There is an item with the key \\\"c\\\" in d.\"\n",
    "else:\n",
    "  print \"There is no item with the key \\\"c\\\" in d.\"\n",
    "  \n",
    "```\n",
    "\n",
    "This program produces the following output:\n",
    "\n",
    "```\n",
    "There is an item with the key \"a\" in d.\n",
    "There is no item with the key \"c\" in d.\n",
    "```"
   ]
  },
  {
   "cell_type": "code",
   "execution_count": 25,
   "metadata": {
    "collapsed": false
   },
   "outputs": [
    {
     "name": "stdout",
     "output_type": "stream",
     "text": [
      "{'apricot': 3, 'plum': 2, 'apple': 4, 'banana': 1}\n"
     ]
    }
   ],
   "source": [
    "# Exercise 3. \n",
    "# Write a program that counts how many of each type of fruit are in the fruit basket. \n",
    "# Use a dictionary to store the counts and print the final counts.\n",
    "\n",
    "fruit_basket = [\"apple\", \"banana\", \"plum\", \"apple\", \"apricot\", \"plum\", \"apple\", \"apple\", \"apricot\", \"apricot\"]\n",
    "\n",
    "#### YOUR CODE STARTS HERE ####\n",
    "\n",
    "fruit_counts = dict()\n",
    "for fruit in fruit_basket:\n",
    "    if fruit not in fruit_counts:\n",
    "        fruit_counts[fruit] = 0\n",
    "    fruit_counts[fruit] +=1\n",
    "\n",
    "print fruit_counts\n",
    "\n",
    "#### YOUR CODE ENDS HERE ####\n"
   ]
  },
  {
   "cell_type": "markdown",
   "metadata": {},
   "source": [
    "### Counter\n",
    "\n",
    "As you noticed in the previous exercise, you always have to check whether a count already exists before you can increase its value. Fortunately, Python comes with a special dictionary type, the _Counter_ type, which makes it easier to work with counts.\n",
    "\n",
    "\n",
    "A Counter works just like a dictionary but instead of giving an error when you use a key for which no entry exists, it will return 0.\n",
    "\n",
    "To use Counters, you first have to run the following import statement.\n",
    "\n",
    "```\n",
    "from collections import Counter\n",
    "```\n",
    "\n",
    "Then you can create a new Counter as follows:\n",
    "\n",
    "```\n",
    "my_counter = Counter()\n",
    "\n",
    "print my_counter[\"something\"] # outputs 0 \n",
    "\n",
    "my_counter[\"something\"] += 1\n",
    "\n",
    "print my_counter[\"something\"] # outputs 1 \n",
    "\n",
    "```\n"
   ]
  },
  {
   "cell_type": "code",
   "execution_count": 26,
   "metadata": {
    "collapsed": false
   },
   "outputs": [
    {
     "name": "stdout",
     "output_type": "stream",
     "text": [
      "Counter({'apple': 4, 'apricot': 3, 'plum': 2, 'banana': 1})\n"
     ]
    }
   ],
   "source": [
    "# Exercise 4.\n",
    "# Re-implement the program from Exercise 3 using a counter object.\n",
    "\n",
    "from collections import Counter\n",
    "fruit_basket = [\"apple\", \"banana\", \"plum\", \"apple\", \"apricot\", \"plum\", \"apple\", \"apple\", \"apricot\", \"apricot\"]\n",
    "\n",
    "#### YOUR CODE STARTS HERE ####\n",
    "\n",
    "fruit_counts = Counter()\n",
    "for fruit in fruit_basket:\n",
    "    fruit_counts[fruit] +=1\n",
    "\n",
    "print fruit_counts\n",
    "\n",
    "#### YOUR CODE ENDS HERE ####\n",
    "\n"
   ]
  },
  {
   "cell_type": "markdown",
   "metadata": {},
   "source": [
    "### Turning lists into Counters\n",
    "\n",
    "Counters come with several other userful features. One of them is that you can automatically turn a list into a counter. For example, the following snippet counts how many of each letter there are in the list my_letters.\n",
    "\n",
    "```\n",
    "my_letters = [\"a\", \"b\", \"b\", \"c\", \"c\", \"c\", \"d\", \"d\", \"d\", \"d\"]\n",
    "letter_counter = Counter(my_letters)\n",
    "\n",
    "print letter_counter # ouputs Counter({'d': 4, 'c': 3, 'b': 2, 'a': 1})\n",
    "```\n"
   ]
  },
  {
   "cell_type": "code",
   "execution_count": 27,
   "metadata": {
    "collapsed": false
   },
   "outputs": [],
   "source": [
    "# Exercise 5.\n",
    "# Re-implment the program from Exercise 3 without using a for loop.\n",
    "\n",
    "from collections import Counter\n",
    "fruit_basket = [\"apple\", \"banana\", \"plum\", \"apple\", \"apricot\", \"plum\", \"apple\", \"apple\", \"apricot\", \"apricot\"]\n",
    "\n",
    "#### YOUR CODE STARTS HERE ####\n",
    "\n",
    "fruit_counts = Counter(fruit_basket)\n",
    "print fruit_counts\n",
    "\n",
    "#### YOUR CODE ENDS HERE ####\n"
   ]
  },
  {
   "cell_type": "markdown",
   "metadata": {},
   "source": [
    "### Iterating through counters\n",
    "\n",
    "Sometimes you want to iterate through all items in a counter. If you use a for-loop with a Counter, it will loop through all keys.\n",
    "\n",
    "\n",
    "```\n",
    "my_counter = Counter({'d': 4, 'c': 3, 'b': 2, 'a': 1})\n",
    "\n",
    "for key in my_counter:\n",
    "  print key\n",
    "\n",
    "```\n",
    "\n",
    "This program will print something like: (the order may vary)\n",
    "\n",
    "```\n",
    "a\n",
    "c\n",
    "b\n",
    "d\n",
    "```\n",
    "\n",
    "You can also get a list of all values stored in a Counter using the _.values()_ method. This can be really useful if you want to compute a sum across all values.\n",
    "\n",
    "```\n",
    "my_counter = Counter({'d': 4, 'c': 3, 'b': 2, 'a': 1})\n",
    "\n",
    "vals = my_counter.values()\n",
    "\n",
    "print vals # outputs [4, 3, 2, 1] (the order may vary)\n",
    "\n",
    "total = sum(vals)\n",
    "print total # outputs 10\n",
    "\n",
    "```\n",
    "\n",
    "\n",
    "### Dividing integers in Python\n",
    "\n",
    "One of the pecularities of Python (and some other programming languages) is that if you divide two integers, it will always return the results rounded down to the next integer and never a decimal number.\n",
    "\n",
    "For example, if you compute 1/2, it will return 0.\n",
    "\n",
    "This can be particularly problematic when we are dealing with fractions or percentatages, as we often do when we compute probabilities. The easiest way to get around this is by turning one of the two numbers into a decimal number by multiplying it by \"1.0\". This will change the representation of the number from an integer to a decimal number and when you then run the division, it will return a decimal. For example, consider the following two divisions:\n",
    "\n",
    "\n",
    "```\n",
    "my_counter = Counter({'d': 4, 'c': 3, 'b': 2, 'a': 1})\n",
    "\n",
    "vals = my_counter.values()\n",
    "\n",
    "total = sum(vals)\n",
    "print my_counter[\"a\"] / total\n",
    "\n",
    "total = sum(vals) * 1.0\n",
    "print my_counter[\"a\"] / total\n",
    "\n",
    "```\n",
    "\n",
    "This program will produce the following output:\n",
    "\n",
    "```\n",
    "0\n",
    "0.1\n",
    "```\n"
   ]
  },
  {
   "cell_type": "code",
   "execution_count": 31,
   "metadata": {
    "collapsed": false,
    "scrolled": true
   },
   "outputs": [
    {
     "name": "stdout",
     "output_type": "stream",
     "text": [
      "Counter({'cat': 0.4, 'dog': 0.3, 'lizard': 0.1, 'parrot': 0.1, 'snake': 0.1})\n",
      "Testing: fraction of cats = 0\n",
      "CORRECT\n"
     ]
    }
   ],
   "source": [
    "# Exercise 6.\n",
    "# Compute the fraction of each type of animal (e.g., the fraction of lizards = 1/10=0.1) and store them in the counter\n",
    "# \"fractions\".\n",
    "\n",
    "my_pets = ['cat', 'lizard', 'cat', 'dog', 'cat', 'snake', 'dog', 'cat', 'dog', 'parrot']\n",
    "\n",
    "#### YOUR CODE STARTS HERE ####\n",
    "\n",
    "fractions = Counter(my_pets)\n",
    "total = sum(fractions.values()) * 1.0\n",
    "for pet in fractions:\n",
    "    fractions[pet] /= total\n",
    "\n",
    "print fractions\n",
    "#### YOUR CODE ENDS HERE ####\n",
    "\n",
    "print \"Testing: fraction of cats = %d\" % fractions[\"cat\"]\n",
    "print \"CORRECT\" if fractions[\"cat\"] ==.4 else \"INCORRECT\""
   ]
  },
  {
   "cell_type": "markdown",
   "metadata": {},
   "source": [
    "## Applying Bayes rule: Which box did the ball come from?\n",
    "\n"
   ]
  }
 ],
 "metadata": {
  "anaconda-cloud": {},
  "kernelspec": {
   "display_name": "Python [conda root]",
   "language": "python",
   "name": "conda-root-py"
  },
  "language_info": {
   "codemirror_mode": {
    "name": "ipython",
    "version": 2
   },
   "file_extension": ".py",
   "mimetype": "text/x-python",
   "name": "python",
   "nbconvert_exporter": "python",
   "pygments_lexer": "ipython2",
   "version": "2.7.12"
  }
 },
 "nbformat": 4,
 "nbformat_minor": 1
}
